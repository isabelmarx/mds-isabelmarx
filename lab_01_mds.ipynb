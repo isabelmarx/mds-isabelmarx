{
  "cells": [
    {
      "cell_type": "markdown",
      "metadata": {
        "id": "J4_IcuuKZj9Y"
      },
      "source": [
        "<h1><center>Laboratorio 1: Git 👾</center></h1>\n",
        "\n",
        "<center><strong>MDS7202: Laboratorio de Programación Científica para Ciencia de Datos - Otoño 2023</strong></center>"
      ]
    },
    {
      "cell_type": "markdown",
      "metadata": {
        "id": "AEXIACc7aADv"
      },
      "source": [
        "### Cuerpo Docente:\n",
        "\n",
        "- Profesores: Pablo Badilla, Ignacio Meza D.\n",
        "- Auxiliar: Sebastián Tinoco\n",
        "- Ayudante: Diego Cortez"
      ]
    },
    {
      "attachments": {},
      "cell_type": "markdown",
      "metadata": {
        "id": "0HgMMyoCaG8X"
      },
      "source": [
        "### Equipo:\n",
        "\n",
        "- Nombre de alumna: Isabel Marx"
      ]
    },
    {
      "attachments": {},
      "cell_type": "markdown",
      "metadata": {
        "id": "fz77X6glaK6y"
      },
      "source": [
        "### **Link de repositorio de GitHub:** `https://github.com/isabelmarx/mds-isabelmarx`"
      ]
    },
    {
      "cell_type": "markdown",
      "metadata": {
        "id": "rRwqaxIZaNx3"
      },
      "source": [
        "## Reglas:\n",
        "\n",
        "- Fecha de entrega: 6 días desde la publicación, 3 días de atraso con 1 punto de descuento c/u. Pueden utilizar días bonus sin descuento.\n",
        "- **Grupos de 2 personas**.\n",
        "- **Ausentes** deberán realizar la actividad solos. \n",
        "- Cualquier duda fuera del horario de clases al foro. Mensajes al equipo docente serán respondidos por este medio.\n",
        "- <u>Prohibidas las copias</u>. Cualquier intento de copia será debidamente penalizado con el reglamento de la escuela.\n",
        "- Pueden usar cualquer material del curso que estimen conveniente.\n",
        "- Asistencia obligatoria a instrucciones del lab (viernes 16.15). Luego, pueden quedarse trabajando en las salas o irse."
      ]
    },
    {
      "cell_type": "markdown",
      "metadata": {
        "id": "bmToL27JaSrf"
      },
      "source": [
        "## Objetivos del lab:\n",
        "\n",
        "\n",
        "- Conocer los elementos básicos que conformar `Git`\n",
        "- Clonar repositorios\n",
        "- Identificar ramas de un repositorio\n",
        "- Reconocer y solucionar problemas entre ramas\n",
        "- Subir cambios a un repositorio"
      ]
    },
    {
      "cell_type": "markdown",
      "metadata": {
        "id": "bvnPCvrVbJLK"
      },
      "source": [
        "## Parte 1: Conocimiento Teórico (2 pts)"
      ]
    },
    {
      "cell_type": "markdown",
      "metadata": {
        "id": "JHl-24XnbNLF"
      },
      "source": [
        "Responda las siguientes preguntas (0.2 pts c/u):\n",
        "\n",
        "1. ¿Qué es `Git` y cómo se relaciona con el control de versiones?\n",
        "\n",
        "2. Nombre y explique 3 diferencias entre `Git` y `Github`.\n",
        "\n",
        "3. ¿Qué es un `hash` y cómo se representa en un `commit`? De un ejemplo.\n",
        "\n",
        "4. ¿Que elementos componen a la estructura de datos de `Git`?\n",
        "\n",
        "5. ¿Que comandos de `Git` sirven para crear un repositorio y hacer seguimiento a cambios en los archivos?"
      ]
    },
    {
      "attachments": {},
      "cell_type": "markdown",
      "metadata": {
        "id": "2tXCSkf0caG8"
      },
      "source": [
        "<code>Escriba sus respuestas acá:</code>\n",
        "1. Git es un sistema de control de versiones distribuidos, que administra proyectos de código fuente. Permite a distintxs desarrollorxs hacer cambios a un mismo código, haciendo un seguimiento de las modificaciones y manteniendo el código fuente actualizado.\n",
        "\n",
        "2.\n",
        "    - Función: git es un software y github es una plataforma de archivamiento online.\n",
        "    - Uso: git se implementa en una línea de comando y github es una página web.\n",
        "    - Visualización: git retorna información en la línea de comando y github posee una interfaz gráfica en su página web.\n",
        "\n",
        "3. Un hash es un conjunto de 40 caracteres que apunta a un único elemento de interés. Para identificar un commit, basta saber los 7 primeros caracteres.\n",
        "    \n",
        "    - Un elemento(tree, blob, commit) puede ser:\n",
        "\n",
        "        <code>cbf1b9a1be984a9f61b79a05f23b19f66d533537</code>\n",
        "\n",
        "    - Si es un commit, puede ser abreviado a:\n",
        "\n",
        "        <code>cbf1b9a</code>\n",
        "\n",
        "4. Los elementos que componen la estructura de datos Git son tree, blob y commit. Un archivo se almacena en un blob. Un árbol representa directorios para uno o más blobs y otro u otros árboles. Un commit es un estado del blob/árbol, con un mensaje corto que describe los cambios realizados del último commit. Un hash apunta a alguno de estos tres elementos.\n",
        "\n",
        "5. \n",
        "    - Crear un repositorio:\n",
        "\n",
        "        <code>git init el_mejor_repositorio</code>\n",
        "\n",
        "    - Estado de un repositorio(seguimiento de cambios en un repositorio?):\n",
        "\n",
        "        <code>git status</code>\n",
        "    \n",
        "    - Actualización de un repositorio(seguimiento de actulizaciones):\n",
        "\n",
        "        <code>git add {rutas a archivos}</code>\n",
        "        <code>git commit -m \"m de mensaje descriptivo de cambios realizados\"</code>"
      ]
    },
    {
      "cell_type": "markdown",
      "metadata": {
        "id": "MACccbP4gU43"
      },
      "source": [
        "Responda si las siguientes afirmaciones son Verdaderas (V) o Falsas (F). Justifique en **cualquiera** de los casos (0.2 pts c/u):\n",
        "\n",
        "\n",
        "6. `Git` siempre resuelve automáticamente los problemas de lineas al hacer merge entre diferentes ramas.\n",
        "7. Ejecutar `git pull` sobre un repositorio es equivalente a ejecutar `git clone`.\n",
        "8. Cada miembro del equipo trabaja en la misma copia del código fuente usando `Git`.\n",
        "9. En `Git` es posible deshacer cambios y volver a versiones anteriores del código.\n",
        "10. El comando `git commit` se utiliza para enviar cambios al repositorio remoto."
      ]
    },
    {
      "attachments": {},
      "cell_type": "markdown",
      "metadata": {
        "id": "DFnmCToOgeM3"
      },
      "source": [
        "<code>Escriba sus respuestas acá:</code>\n",
        "\n",
        "6. Falso, se deben solucionar los conflictos fuera de git y luego subir los cambios.\n",
        "\n",
        "7. Falso, git clone clona un repositorio existente localmente y git pull actualiza ese repo con posibles git pushs que le hayan ocurrido al repositorio remoto.\n",
        "\n",
        "8. Verdadero, si cada miembro del equipo hace sus commits y pushs apropiadamente y luego ```git pull``` del repositorio remoto, van a estar trabajando en la misma copia del código fuente. Si no hacen sus commits, pushs y pulls como corresponde, podrían estar trabajando en distintos estados del repositorio.\n",
        "\n",
        "9. Verdadero, con git revert ```<commit>``` es posible deshacer los cambios hechos en ```<commit>```.\n",
        "\n",
        "10. Falso, ```git commit``` envia los cambios al repositorio local y ```git push``` los envía al repo remoto."
      ]
    },
    {
      "cell_type": "markdown",
      "metadata": {
        "id": "i7Em9JkbbRLo"
      },
      "source": [
        "## Parte 2: Creando una presentación personal (2 pts)"
      ]
    },
    {
      "cell_type": "markdown",
      "metadata": {
        "id": "XWIHfyrlbYOJ"
      },
      "source": [
        "Para empezar a \"*soltar las manos*\" con `Git`, se les encomienda crear un repositorio con una presentación personal. El repositorio debe contener un breve resumen de quienes son ustedes, sus gustos, experiencias, y cualquier otro detalle interesante que ustedes consideren relevante. \n",
        "\n",
        "Para realizar esto, deben seguir los siguientes pasos:\n",
        "\n",
        "1. Contar con una cuenta de github (1 por persona)\n",
        "2. Crear un repositorio con su nombre de usuario\n",
        "3. Crear y modificar un archivo `readme.md` con la información que ustedes deseen compartir.\n",
        "\n",
        "A modo de ejemplo, pueden guiarse por esta *suculenta* [presentación](https://github.com/pbadillatorrealba/pbadillatorrealba).\n",
        "\n",
        "*Hint: Una buena opción es usar templates de presentación personal que encuentren en Google, como los que ofrece este [sitio](https://durgeshsamariya.github.io/awesome-github-profile-readme-templates/#/)*.\n",
        "\n",
        "**Entregable:**\n",
        "\n",
        "Enlace al repositorio con la presentación personal. \n",
        "\n",
        "IMPORTANTE: DEBEN ADJUNTAR UN ENLACE POR PERSONA"
      ]
    },
    {
      "attachments": {},
      "cell_type": "markdown",
      "metadata": {
        "id": "IIkWyl9tf0Sg"
      },
      "source": [
        "<code>Link Presentación:\n",
        "\n",
        "https://github.com/isabelmarx/isabelmarx\n",
        "\n",
        "</code>"
      ]
    },
    {
      "cell_type": "markdown",
      "metadata": {
        "id": "CAzXOwvDY-IG"
      },
      "source": [
        "## Parte 3: Trabajando sobre un repositorio externo (2 pts)"
      ]
    },
    {
      "cell_type": "markdown",
      "metadata": {
        "id": "84Yjuxxvdfzh"
      },
      "source": [
        "Tras muchos dolores de cabeza, un grupo de entusiastas académicos decidieron aprender sobre `Git` y así trabajar colaborativamente de forma más ordenada y eficiente. Después de una infinidad de intentos y aprender de sus errores \"*a la mala*\", los académicos lograron levantar un [repositorio](https://github.com/MDS7202/lab1) en `Github`. Usando el repositorio de los académicos, responda las siguientes preguntas (incluya también los comandos en `Git` ocupados):"
      ]
    },
    {
      "cell_type": "markdown",
      "metadata": {
        "id": "BFRnAw0rfguR"
      },
      "source": [
        "1. Clone el repositorio a su ambiente local. (0.25 pts)"
      ]
    },
    {
      "attachments": {},
      "cell_type": "markdown",
      "metadata": {
        "id": "KXro32yBeilN"
      },
      "source": [
        "<code>Escriba sus respuestas acá: </code>\n",
        "\n",
        "```git clone https://github.com/MDS7202/lab1.git md_lab01```"
      ]
    },
    {
      "cell_type": "markdown",
      "metadata": {
        "id": "q2qmiDyjt2M_"
      },
      "source": [
        "2. Inspeccione brevemente el repositorio: ¿Cual es el objetivo del proyecto? Explique brevemente la estructura del proyecto, asi como también de cada componente que lo conforma. (0.25 pts)"
      ]
    },
    {
      "attachments": {},
      "cell_type": "markdown",
      "metadata": {
        "id": "aBHpR8VTftkT"
      },
      "source": [
        "<code>Escriba sus respuestas acá:</code>\n",
        "\n",
        "El proyecto busca emular los sonidos de animales. Cuenta de una función main.py, que recibe el nombre del animal y y con este llama a la función animales.py, que imprime 'miau' o 'guau' si recibe 'gato' o 'perro' respectivamente, o imprime el link a la canción \"What Does The Fox Say?\" si recibe 'fox'."
      ]
    },
    {
      "cell_type": "markdown",
      "metadata": {
        "id": "XFwqcpLZfylf"
      },
      "source": [
        "3. Identifique los últimos cambios al repositorio, reconociendo las principales ramas de trabajo. ¿Son informativos los `commit` realizados? (0.25 pts)\n",
        "*Hint: Se recomienda usar los argumentos `all`, `graph` y `decorate`*"
      ]
    },
    {
      "attachments": {},
      "cell_type": "markdown",
      "metadata": {
        "id": "cmWfXBkOhog0"
      },
      "source": [
        "<code>Escriba sus respuestas acá:</code>\n",
        "\n",
        "```git log --all --graph --decorate```\n",
        "\n",
        "Los commits realizados no son informativos:\n",
        "- primer commit: no se describe en qué consiste.\n",
        "- se agrega funcion: no se describe qué hace dicha función.\n",
        "- Se separa el proyecto en modulos: no se describe cuáles son aquellos módulos.\n",
        "- fix ifs: no se describe cuáles ifs."
      ]
    },
    {
      "cell_type": "markdown",
      "metadata": {
        "id": "Vqbj9HdXrUnN"
      },
      "source": [
        "4. Uno de los académicos se da cuenta que la rama principal de trabajo no se ejecuta correctamente para todos los argumentos. Señale el error en el código e identifique a la persona que lo cometió usando `git blame` (0.25 pts)\n",
        "\n",
        "*Hint: Le puede ser útil esta [documentación](https://www.atlassian.com/es/git/tutorials/inspecting-a-repository/git-blame).*"
      ]
    },
    {
      "attachments": {},
      "cell_type": "markdown",
      "metadata": {
        "id": "5ajhV2Iar3tV"
      },
      "source": [
        "<code>Escriba sus respuestas acá:</code>\n",
        "\n",
        "```python3 main.py```\n",
        "```perro```\n",
        "\n",
        "y\n",
        "\n",
        "```python3 main.py```\n",
        "```gato```\n",
        "\n",
        "entregan la onomatopeya respectiva y a continuación el error \"ValueError: animal no reconocido :(\"\n",
        "\n",
        "```python3 main.py```\n",
        "```conejo```\n",
        "\n",
        "sólo retorna el error.\n",
        "\n",
        "Esto ocurre por la implementación de los ifs: los 2 primeros se ejecutan por separado, entregando el sonido del animal correctamente, y no entregando nada en el caso de \"conejo\". El 3er if está acompañado de un else, por lo que al recibir \"perro\", \"gato\" o \"conejo\", se salta el if(de \"fox\") y cae en el else, que entrega el error.\n",
        "\n",
        "Luego, la persona que cometió el error es la que escribió el código de ifs en animales.py. Con \n",
        "\n",
        "```git blame animales.py```\n",
        "\n",
        ", se sabe que la persona culpable del código es mezosky."
      ]
    },
    {
      "cell_type": "markdown",
      "metadata": {
        "id": "m8J3uE7MhqTA"
      },
      "source": [
        "5. Busque los siguientes `commit`:\n",
        "\n",
        "- `c8b1a62d7299552b0654f930d695b33109214111`\n",
        "- `362fe21ee44f53ee944cee4ba484600308f83d78`\n",
        "- `25543a3baf77292baf849726784ca005473acab1`\n",
        "\n",
        "¿Qué diferencias existen entre cada uno? (0.25 pts)"
      ]
    },
    {
      "attachments": {},
      "cell_type": "markdown",
      "metadata": {
        "id": "sNHnZsgIitGh"
      },
      "source": [
        "<code>Escriba sus respuestas acá:</code>\n",
        "\n",
        "\n",
        "- `c8b1a62`: commit en la rama principal\n",
        "- `362fe21`: se crea una rama new_features, además se ve la rama por defecto main y el puntero `HEAD`. El puntero apunta a la rama principal main.\n",
        "- `25543a3`: se crea una rama fix-ifs, pero, si bien es la última creada, el puntero HEAD no se deja apuntando hacia ella."
      ]
    },
    {
      "cell_type": "markdown",
      "metadata": {
        "id": "WQIPbfNCgpxC"
      },
      "source": [
        "6. Realice una `merge` de la rama `fix-ifs` con la rama `main` y describa lo que ocurre. ¿Qué parte del código podría estar ocasionando esto? (0.25 pts)"
      ]
    },
    {
      "attachments": {},
      "cell_type": "markdown",
      "metadata": {
        "id": "ypH_6lL5ioZz"
      },
      "source": [
        "<code>Escriba sus respuestas acá:</code>\n",
        "\n",
        "```git merge origin/fix-ifs```\n",
        "\n",
        "entrega:\n",
        "\n",
        "```CONFLICT (content): Merge conflict in main.py```\n",
        "\n",
        "En la rama fix-ifs falta `main.py`, luego no puede realizarse el merge."
      ]
    },
    {
      "cell_type": "markdown",
      "metadata": {
        "id": "GYfODCjeivkU"
      },
      "source": [
        "7. Cree una rama nueva y proponga una solución al problema anterior, adjuntando el código corregido y señalando las líneas modificadas. (0.5 pts)"
      ]
    },
    {
      "attachments": {},
      "cell_type": "markdown",
      "metadata": {
        "id": "8heBxDU9iziT"
      },
      "source": [
        "<code>Escriba sus respuestas acá:</code>\n",
        "\n",
        "Primero, se mueve el puntero al commit 25543a3:\n",
        "<br>\n",
        "```git reset --hard 25543a3```\n",
        "</br>\n",
        "Se crea una nueva rama:\n",
        "<br>\n",
        "```git branch origin/fixed-ifs-branch```\n",
        "</br>\n",
        "Se cambia el puntero a la nueva rama:\n",
        "<br>\n",
        "```git checkout origin/fixed-ifs-branch```\n",
        "</br>\n",
        "Ahora, el archivo main.py está integrado, y el merge realizado internamente:\n",
        "<br>\n",
        "\n",
        "```$ python3 main.py```\n",
        "\n",
        "```Ingrese el animalito para saber que dice:```\n",
        "\n",
        "```gato```\n",
        "\n",
        "```miau```\n",
        "</br>\n",
        "\n",
        "<br>\n",
        "\n",
        "```$ python3 main.py```\n",
        "\n",
        "```Ingrese el animalito para saber que dice:```\n",
        "\n",
        "```perro```\n",
        "\n",
        "```guau```\n",
        "\n",
        "</br>\n",
        "<br>\n",
        "\n",
        "```$ python3 main.py```\n",
        "\n",
        "```Ingrese el animalito para saber que dice:```\n",
        "\n",
        "```fox```\n",
        "\n",
        "```https://www.youtube.com/watch?v=jofNR_WkoCE```\n",
        "\n",
        "</br>\n",
        "<br>\n",
        "\n",
        "```$ python3 main.py```\n",
        "\n",
        "```Ingrese el animalito para saber que dice:```\n",
        "\n",
        "```conejo```\n",
        "\n",
        "```Traceback (most recent call last):```\n",
        "\n",
        "```  File \"/Users/i/md_lab01/main.py\", line 19, in <module>```\n",
        "\n",
        "```    animales(animal)```\n",
        "\n",
        "```  File \"/Users/i/md_lab01/main.py\", line 14, in animales```\n",
        "\n",
        "```    raise ValueError('animal no reconocido :(')```\n",
        "\n",
        "```ValueError: animal no reconocido :(```\n",
        "\n",
        "</br>\n",
        "\n",
        "Con el puntero en la nueva rama, se busca leer la función modificada, luego se ejecuta:\n",
        "\n",
        "```less main.py```\n",
        "\n",
        "```\n",
        "def animales(input):\n",
        "    \n",
        "    '''\n",
        "    Como hace el animalito?\n",
        "    '''\n",
        "    \n",
        "    if input.lower() == 'gato':\n",
        "        print('miau')\n",
        "    elif input.lower() == 'perro':\n",
        "        print('guau')\n",
        "    elif input.lower() == 'fox':\n",
        "        print('https://www.youtube.com/watch?v=jofNR_WkoCE')\n",
        "    else:\n",
        "        raise ValueError('animal no reconocido :(')\n",
        "\n",
        "\n",
        "if __name__ == '__main__':\n",
        "    print(\"Ingrese el animalito para saber que dice:\")\n",
        "    animal = input()\n",
        "    animales(animal)\n",
        "```\n",
        "\n",
        "Se observa que en esta versión del código, la condición if está correctamente realizada, siendo cada condición dependiente de la anterior, en lugar de condiciones separadas como en la versión anterior."
      ]
    },
    {
      "cell_type": "markdown",
      "metadata": {
        "id": "Av8ebB9jkALO"
      },
      "source": [
        "## Fin"
      ]
    },
    {
      "cell_type": "markdown",
      "metadata": {
        "id": "aQqZT9fSkBK8"
      },
      "source": [
        "Eso ha sido todo por ahora!! Esperamos que este laboratorio les haya gustado y servido para trabajar con `Git`. Recuerden los dias de plazo que tienen disponibles y que ante cualquier duda no duden en contactar al equipo docente. \n",
        "\n",
        "Nos vemos!! \n",
        "\n",
        "<img src=https://media.tenor.com/OYLdav9k9LkAAAAd/kitty-cat.gif height=300>\n"
      ]
    }
  ],
  "metadata": {
    "colab": {
      "provenance": []
    },
    "kernelspec": {
      "display_name": "Python 3",
      "name": "python3"
    },
    "language_info": {
      "name": "python"
    }
  },
  "nbformat": 4,
  "nbformat_minor": 0
}
